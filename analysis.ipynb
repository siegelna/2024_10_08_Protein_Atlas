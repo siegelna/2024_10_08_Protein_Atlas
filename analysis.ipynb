{
 "cells": [
  {
   "cell_type": "code",
   "execution_count": 123,
   "metadata": {
    "vscode": {
     "languageId": "r"
    }
   },
   "outputs": [],
   "source": [
    "suppressPackageStartupMessages({\n",
    "    library(dplyr)\n",
    "    library(readr)\n",
    "    library(tidyr)\n",
    "    library(tibble)\n",
    "})"
   ]
  },
  {
   "cell_type": "markdown",
   "metadata": {},
   "source": [
    "[Analysis Data](https://www.proteinatlas.org/download/rna_immune_cell_monaco.tsv.zip)"
   ]
  },
  {
   "cell_type": "code",
   "execution_count": 124,
   "metadata": {
    "vscode": {
     "languageId": "r"
    }
   },
   "outputs": [
    {
     "name": "stderr",
     "output_type": "stream",
     "text": [
      "\u001b[1mRows: \u001b[22m\u001b[34m604860\u001b[39m \u001b[1mColumns: \u001b[22m\u001b[34m5\u001b[39m\n",
      "\u001b[36m──\u001b[39m \u001b[1mColumn specification\u001b[22m \u001b[36m───────────────────────────────────────────────────────────────────────────────────────────────────────────────\u001b[39m\n",
      "\u001b[1mDelimiter:\u001b[22m \"\\t\"\n",
      "\u001b[31mchr\u001b[39m (3): Gene, Gene name, Immune cell\n",
      "\u001b[32mdbl\u001b[39m (2): TPM, pTPM\n",
      "\n",
      "\u001b[36mℹ\u001b[39m Use `spec()` to retrieve the full column specification for this data.\n",
      "\u001b[36mℹ\u001b[39m Specify the column types or set `show_col_types = FALSE` to quiet this message.\n"
     ]
    },
    {
     "data": {
      "text/html": [
       "<table class=\"dataframe\">\n",
       "<caption>A data.frame: 6 × 11</caption>\n",
       "<thead>\n",
       "\t<tr><th></th><th scope=col>Cell</th><th scope=col>PTPRC</th><th scope=col>TFRC</th><th scope=col>CD74</th><th scope=col>ITGAL</th><th scope=col>CLEC4C</th><th scope=col>EEA1</th><th scope=col>RAB5A</th><th scope=col>CD63</th><th scope=col>RAB7A</th><th scope=col>LAMP1</th></tr>\n",
       "\t<tr><th></th><th scope=col>&lt;chr&gt;</th><th scope=col>&lt;dbl&gt;</th><th scope=col>&lt;dbl&gt;</th><th scope=col>&lt;dbl&gt;</th><th scope=col>&lt;dbl&gt;</th><th scope=col>&lt;dbl&gt;</th><th scope=col>&lt;dbl&gt;</th><th scope=col>&lt;dbl&gt;</th><th scope=col>&lt;dbl&gt;</th><th scope=col>&lt;dbl&gt;</th><th scope=col>&lt;dbl&gt;</th></tr>\n",
       "</thead>\n",
       "<tbody>\n",
       "\t<tr><th scope=row>1</th><td>Central memory CD8 T-cell </td><td>1110.6</td><td> 7.6</td><td>  709.3</td><td>185.0</td><td>0.2</td><td> 5.9</td><td>46.1</td><td>47.8</td><td>161.1</td><td>10.5</td></tr>\n",
       "\t<tr><th scope=row>2</th><td>Effector memory CD8 T-cell</td><td>1410.5</td><td>10.0</td><td> 1828.8</td><td>347.7</td><td>0.5</td><td> 5.8</td><td>57.9</td><td>71.3</td><td>205.8</td><td>12.2</td></tr>\n",
       "\t<tr><th scope=row>3</th><td>Exhausted memory B-cell   </td><td> 335.3</td><td>23.0</td><td>16365.5</td><td> 50.1</td><td>1.0</td><td>10.1</td><td>27.7</td><td>44.5</td><td>112.2</td><td> 4.7</td></tr>\n",
       "\t<tr><th scope=row>4</th><td>Memory CD4 T-cell TFH     </td><td> 998.3</td><td> 8.0</td><td>  498.2</td><td>133.5</td><td>0.3</td><td> 5.0</td><td>33.8</td><td>26.5</td><td>151.8</td><td> 3.9</td></tr>\n",
       "\t<tr><th scope=row>5</th><td>Memory CD4 T-cell Th1     </td><td> 937.6</td><td>10.7</td><td>  622.9</td><td>175.7</td><td>0.4</td><td> 6.8</td><td>45.0</td><td>43.2</td><td>158.8</td><td> 8.9</td></tr>\n",
       "\t<tr><th scope=row>6</th><td>Memory CD4 T-cell Th1/Th17</td><td> 954.2</td><td> 7.5</td><td>  545.4</td><td>168.6</td><td>0.4</td><td> 4.7</td><td>46.1</td><td>52.7</td><td>168.1</td><td> 8.5</td></tr>\n",
       "</tbody>\n",
       "</table>\n"
      ],
      "text/latex": [
       "A data.frame: 6 × 11\n",
       "\\begin{tabular}{r|lllllllllll}\n",
       "  & Cell & PTPRC & TFRC & CD74 & ITGAL & CLEC4C & EEA1 & RAB5A & CD63 & RAB7A & LAMP1\\\\\n",
       "  & <chr> & <dbl> & <dbl> & <dbl> & <dbl> & <dbl> & <dbl> & <dbl> & <dbl> & <dbl> & <dbl>\\\\\n",
       "\\hline\n",
       "\t1 & Central memory CD8 T-cell  & 1110.6 &  7.6 &   709.3 & 185.0 & 0.2 &  5.9 & 46.1 & 47.8 & 161.1 & 10.5\\\\\n",
       "\t2 & Effector memory CD8 T-cell & 1410.5 & 10.0 &  1828.8 & 347.7 & 0.5 &  5.8 & 57.9 & 71.3 & 205.8 & 12.2\\\\\n",
       "\t3 & Exhausted memory B-cell    &  335.3 & 23.0 & 16365.5 &  50.1 & 1.0 & 10.1 & 27.7 & 44.5 & 112.2 &  4.7\\\\\n",
       "\t4 & Memory CD4 T-cell TFH      &  998.3 &  8.0 &   498.2 & 133.5 & 0.3 &  5.0 & 33.8 & 26.5 & 151.8 &  3.9\\\\\n",
       "\t5 & Memory CD4 T-cell Th1      &  937.6 & 10.7 &   622.9 & 175.7 & 0.4 &  6.8 & 45.0 & 43.2 & 158.8 &  8.9\\\\\n",
       "\t6 & Memory CD4 T-cell Th1/Th17 &  954.2 &  7.5 &   545.4 & 168.6 & 0.4 &  4.7 & 46.1 & 52.7 & 168.1 &  8.5\\\\\n",
       "\\end{tabular}\n"
      ],
      "text/markdown": [
       "\n",
       "A data.frame: 6 × 11\n",
       "\n",
       "| <!--/--> | Cell &lt;chr&gt; | PTPRC &lt;dbl&gt; | TFRC &lt;dbl&gt; | CD74 &lt;dbl&gt; | ITGAL &lt;dbl&gt; | CLEC4C &lt;dbl&gt; | EEA1 &lt;dbl&gt; | RAB5A &lt;dbl&gt; | CD63 &lt;dbl&gt; | RAB7A &lt;dbl&gt; | LAMP1 &lt;dbl&gt; |\n",
       "|---|---|---|---|---|---|---|---|---|---|---|---|\n",
       "| 1 | Central memory CD8 T-cell  | 1110.6 |  7.6 |   709.3 | 185.0 | 0.2 |  5.9 | 46.1 | 47.8 | 161.1 | 10.5 |\n",
       "| 2 | Effector memory CD8 T-cell | 1410.5 | 10.0 |  1828.8 | 347.7 | 0.5 |  5.8 | 57.9 | 71.3 | 205.8 | 12.2 |\n",
       "| 3 | Exhausted memory B-cell    |  335.3 | 23.0 | 16365.5 |  50.1 | 1.0 | 10.1 | 27.7 | 44.5 | 112.2 |  4.7 |\n",
       "| 4 | Memory CD4 T-cell TFH      |  998.3 |  8.0 |   498.2 | 133.5 | 0.3 |  5.0 | 33.8 | 26.5 | 151.8 |  3.9 |\n",
       "| 5 | Memory CD4 T-cell Th1      |  937.6 | 10.7 |   622.9 | 175.7 | 0.4 |  6.8 | 45.0 | 43.2 | 158.8 |  8.9 |\n",
       "| 6 | Memory CD4 T-cell Th1/Th17 |  954.2 |  7.5 |   545.4 | 168.6 | 0.4 |  4.7 | 46.1 | 52.7 | 168.1 |  8.5 |\n",
       "\n"
      ],
      "text/plain": [
       "  Cell                       PTPRC  TFRC CD74    ITGAL CLEC4C EEA1 RAB5A CD63\n",
       "1 Central memory CD8 T-cell  1110.6  7.6   709.3 185.0 0.2     5.9 46.1  47.8\n",
       "2 Effector memory CD8 T-cell 1410.5 10.0  1828.8 347.7 0.5     5.8 57.9  71.3\n",
       "3 Exhausted memory B-cell     335.3 23.0 16365.5  50.1 1.0    10.1 27.7  44.5\n",
       "4 Memory CD4 T-cell TFH       998.3  8.0   498.2 133.5 0.3     5.0 33.8  26.5\n",
       "5 Memory CD4 T-cell Th1       937.6 10.7   622.9 175.7 0.4     6.8 45.0  43.2\n",
       "6 Memory CD4 T-cell Th1/Th17  954.2  7.5   545.4 168.6 0.4     4.7 46.1  52.7\n",
       "  RAB7A LAMP1\n",
       "1 161.1 10.5 \n",
       "2 205.8 12.2 \n",
       "3 112.2  4.7 \n",
       "4 151.8  3.9 \n",
       "5 158.8  8.9 \n",
       "6 168.1  8.5 "
      ]
     },
     "metadata": {},
     "output_type": "display_data"
    }
   ],
   "source": [
    "data <- read_tsv(\"rna_immune_cell_monaco.tsv.gz\") %>% as.data.frame()\n",
    "protein_atlas <- c(\n",
    "\"PTPRC\", \"TFRC\", \"CD74\", \"ITGAL\", \"CLEC4C\", \"EEA1\", \"RAB5A\", \"CD63\", \"RAB7A\", \"LAMP1\"\n",
    "\n",
    ")\n",
    "\n",
    "celltype <- c(\n",
    "  \"Central memory CD8 T-cell\", \n",
    "  \"Effector memory CD8 T-cell\", \n",
    "  \"Exhausted memory B-cell\", \n",
    "  \"Memory CD4 T-cell TFH\", \n",
    "  \"Memory CD4 T-cell Th1\", \n",
    "  \"Memory CD4 T-cell Th1/Th17\", \n",
    "  \"Memory CD4 T-cell Th17\", \n",
    "  \"Memory CD4 T-cell Th2\", \n",
    "  \"naive B-cell\", \n",
    "  \"naive CD4 T-cell\", \n",
    "  \"naive CD8 T-cell\", \n",
    "  \"Non-switched memory B-cell\", \n",
    "  \"Plasmablast\", \n",
    "  \"Switched memory B-cell\", \n",
    "  \"T-reg\", \n",
    "  \"Terminal effector memory CD4 T-cell\", \n",
    "  \"Terminal effector memory CD8 T-cell\", \n",
    "  \"Vd2 gdTCR\",\n",
    "  \"plasmacytoid DC\"\n",
    ")\n",
    "# Filter and pivot the dataframe\n",
    "filtered_df <- data %>%\n",
    "  filter(`Gene name` %in% protein_atlas) %>%\n",
    "  filter(`Immune cell` %in% celltype) %>%\n",
    "  dplyr::select(-c(Gene, pTPM)) %>% \n",
    "  pivot_wider(names_from = \"Gene name\", values_from = \"TPM\") %>%\n",
    " dplyr::select(`Immune cell`, PTPRC, TFRC, CD74, ITGAL, CLEC4C, EEA1, RAB5A, CD63, RAB7A, LAMP1) %>%\n",
    " rename(Cell = `Immune cell`) %>% data.frame()\n",
    "immune <- filtered_df\n",
    "head(immune)"
   ]
  },
  {
   "cell_type": "code",
   "execution_count": 158,
   "metadata": {
    "vscode": {
     "languageId": "r"
    }
   },
   "outputs": [
    {
     "name": "stderr",
     "output_type": "stream",
     "text": [
      "\u001b[1mRows: \u001b[22m\u001b[34m34104\u001b[39m \u001b[1mColumns: \u001b[22m\u001b[34m8\u001b[39m\n",
      "\u001b[36m──\u001b[39m \u001b[1mColumn specification\u001b[22m \u001b[36m───────────────────────────────────────────────────────────────────────────────────────────────────────────────\u001b[39m\n",
      "\u001b[1mDelimiter:\u001b[22m \"\\t\"\n",
      "\u001b[31mchr\u001b[39m (2): Gene ID, Gene Name\n",
      "\u001b[32mdbl\u001b[39m (6): ARH77, Daudi, NAMALWA, Raji, Ramos, Toledo\n",
      "\n",
      "\u001b[36mℹ\u001b[39m Use `spec()` to retrieve the full column specification for this data.\n",
      "\u001b[36mℹ\u001b[39m Specify the column types or set `show_col_types = FALSE` to quiet this message.\n"
     ]
    },
    {
     "data": {
      "text/html": [
       "<table class=\"dataframe\">\n",
       "<caption>A data.frame: 7 × 10</caption>\n",
       "<thead>\n",
       "\t<tr><th></th><th scope=col>ITGAL</th><th scope=col>CD74</th><th scope=col>TFRC</th><th scope=col>RAB7A</th><th scope=col>PTPRC</th><th scope=col>EEA1</th><th scope=col>CD63</th><th scope=col>RAB5A</th><th scope=col>LAMP1</th><th scope=col>CLEC4C</th></tr>\n",
       "\t<tr><th></th><th scope=col>&lt;chr&gt;</th><th scope=col>&lt;chr&gt;</th><th scope=col>&lt;chr&gt;</th><th scope=col>&lt;chr&gt;</th><th scope=col>&lt;chr&gt;</th><th scope=col>&lt;chr&gt;</th><th scope=col>&lt;chr&gt;</th><th scope=col>&lt;chr&gt;</th><th scope=col>&lt;chr&gt;</th><th scope=col>&lt;chr&gt;</th></tr>\n",
       "</thead>\n",
       "<tbody>\n",
       "\t<tr><th scope=row>Cell</th><td>ITGAL </td><td>CD74  </td><td>TFRC  </td><td>RAB7A </td><td>PTPRC </td><td>EEA1  </td><td>CD63  </td><td>RAB5A </td><td>LAMP1 </td><td>CLEC4C</td></tr>\n",
       "\t<tr><th scope=row>ARH77</th><td>  52.0</td><td>3121.0</td><td> 426.0</td><td> 296.0</td><td>  69.0</td><td>  25.0</td><td> 112.0</td><td>  34.0</td><td> 102.0</td><td>   0.1</td></tr>\n",
       "\t<tr><th scope=row>Daudi</th><td>  53.0</td><td>5289.0</td><td> 206.0</td><td> 248.0</td><td> 326.0</td><td>  27.0</td><td>  36.0</td><td>  39.0</td><td>  55.0</td><td>   0.1</td></tr>\n",
       "\t<tr><th scope=row>NAMALWA</th><td>   9.0</td><td>2389.0</td><td> 193.0</td><td> 346.0</td><td> 179.0</td><td>  20.0</td><td> 103.0</td><td>  43.0</td><td> 105.0</td><td>   0.1</td></tr>\n",
       "\t<tr><th scope=row>Raji</th><td>  29  </td><td>3744  </td><td> 219  </td><td> 251  </td><td> 174  </td><td>  27  </td><td>  49  </td><td>  48  </td><td>  45  </td><td>NA    </td></tr>\n",
       "\t<tr><th scope=row>Ramos</th><td> 104  </td><td>2333  </td><td> 175  </td><td> 344  </td><td>  99  </td><td>  13  </td><td>  32  </td><td>  72  </td><td>  70  </td><td>NA    </td></tr>\n",
       "\t<tr><th scope=row>Toledo</th><td>  12  </td><td>4070  </td><td> 255  </td><td> 283  </td><td> 202  </td><td>  20  </td><td> 115  </td><td>  45  </td><td>  89  </td><td>   2  </td></tr>\n",
       "</tbody>\n",
       "</table>\n"
      ],
      "text/latex": [
       "A data.frame: 7 × 10\n",
       "\\begin{tabular}{r|llllllllll}\n",
       "  & ITGAL & CD74 & TFRC & RAB7A & PTPRC & EEA1 & CD63 & RAB5A & LAMP1 & CLEC4C\\\\\n",
       "  & <chr> & <chr> & <chr> & <chr> & <chr> & <chr> & <chr> & <chr> & <chr> & <chr>\\\\\n",
       "\\hline\n",
       "\tCell & ITGAL  & CD74   & TFRC   & RAB7A  & PTPRC  & EEA1   & CD63   & RAB5A  & LAMP1  & CLEC4C\\\\\n",
       "\tARH77 &   52.0 & 3121.0 &  426.0 &  296.0 &   69.0 &   25.0 &  112.0 &   34.0 &  102.0 &    0.1\\\\\n",
       "\tDaudi &   53.0 & 5289.0 &  206.0 &  248.0 &  326.0 &   27.0 &   36.0 &   39.0 &   55.0 &    0.1\\\\\n",
       "\tNAMALWA &    9.0 & 2389.0 &  193.0 &  346.0 &  179.0 &   20.0 &  103.0 &   43.0 &  105.0 &    0.1\\\\\n",
       "\tRaji &   29   & 3744   &  219   &  251   &  174   &   27   &   49   &   48   &   45   & NA    \\\\\n",
       "\tRamos &  104   & 2333   &  175   &  344   &   99   &   13   &   32   &   72   &   70   & NA    \\\\\n",
       "\tToledo &   12   & 4070   &  255   &  283   &  202   &   20   &  115   &   45   &   89   &    2  \\\\\n",
       "\\end{tabular}\n"
      ],
      "text/markdown": [
       "\n",
       "A data.frame: 7 × 10\n",
       "\n",
       "| <!--/--> | ITGAL &lt;chr&gt; | CD74 &lt;chr&gt; | TFRC &lt;chr&gt; | RAB7A &lt;chr&gt; | PTPRC &lt;chr&gt; | EEA1 &lt;chr&gt; | CD63 &lt;chr&gt; | RAB5A &lt;chr&gt; | LAMP1 &lt;chr&gt; | CLEC4C &lt;chr&gt; |\n",
       "|---|---|---|---|---|---|---|---|---|---|---|\n",
       "| Cell | ITGAL  | CD74   | TFRC   | RAB7A  | PTPRC  | EEA1   | CD63   | RAB5A  | LAMP1  | CLEC4C |\n",
       "| ARH77 |   52.0 | 3121.0 |  426.0 |  296.0 |   69.0 |   25.0 |  112.0 |   34.0 |  102.0 |    0.1 |\n",
       "| Daudi |   53.0 | 5289.0 |  206.0 |  248.0 |  326.0 |   27.0 |   36.0 |   39.0 |   55.0 |    0.1 |\n",
       "| NAMALWA |    9.0 | 2389.0 |  193.0 |  346.0 |  179.0 |   20.0 |  103.0 |   43.0 |  105.0 |    0.1 |\n",
       "| Raji |   29   | 3744   |  219   |  251   |  174   |   27   |   49   |   48   |   45   | NA     |\n",
       "| Ramos |  104   | 2333   |  175   |  344   |   99   |   13   |   32   |   72   |   70   | NA     |\n",
       "| Toledo |   12   | 4070   |  255   |  283   |  202   |   20   |  115   |   45   |   89   |    2   |\n",
       "\n"
      ],
      "text/plain": [
       "        ITGAL  CD74   TFRC   RAB7A  PTPRC  EEA1   CD63   RAB5A  LAMP1  CLEC4C\n",
       "Cell    ITGAL  CD74   TFRC   RAB7A  PTPRC  EEA1   CD63   RAB5A  LAMP1  CLEC4C\n",
       "ARH77     52.0 3121.0  426.0  296.0   69.0   25.0  112.0   34.0  102.0    0.1\n",
       "Daudi     53.0 5289.0  206.0  248.0  326.0   27.0   36.0   39.0   55.0    0.1\n",
       "NAMALWA    9.0 2389.0  193.0  346.0  179.0   20.0  103.0   43.0  105.0    0.1\n",
       "Raji      29   3744    219    251    174     27     49     48     45   NA    \n",
       "Ramos    104   2333    175    344     99     13     32     72     70   NA    \n",
       "Toledo    12   4070    255    283    202     20    115     45     89      2  "
      ]
     },
     "metadata": {},
     "output_type": "display_data"
    }
   ],
   "source": [
    "emtab <- read_tsv(\"E-MTAB-6867-query-results.tsv\", skip = 4)\n",
    "genes <- c(\n",
    "\"PTPRC\", \"TFRC\", \"CD74\", \"ITGAL\", \"CLEC4C\", \"EEA1\", \"RAB5A\", \"CD63\", \"RAB7A\", \"LAMP1\"\n",
    "\n",
    ")\n",
    "emtab <- emtab[emtab$`Gene Name` %in% genes, ]\n",
    "emtab <- emtab %>%\n",
    "    dplyr::select(-`Gene ID`) %>%\n",
    "    dplyr::rename(Cell = `Gene Name`)\n",
    "\n",
    "# Transpose the data\n",
    "emtab <- t(emtab)\n",
    "\n",
    "# Convert to a data frame\n",
    "emtab <- as.data.frame(emtab)\n",
    "\n",
    "# Set the first row as column names\n",
    "colnames(emtab) <- emtab[1, ]\n",
    "\n",
    "# Display the modified data frame\n",
    "emtab\n"
   ]
  },
  {
   "cell_type": "code",
   "execution_count": 125,
   "metadata": {
    "vscode": {
     "languageId": "r"
    }
   },
   "outputs": [],
   "source": [
    "ccle <- read.table(\"CCLE_RNAseq_rsem_genes_tpm_20180929.txt.gz\", header = TRUE, row.names = 1) \n",
    "# Select cells of interest\n",
    "counts_subset <- ccle\n",
    "patterns <- c(\"Raji\", \"Jurkat\")\n",
    "selected_columns <- colnames(counts_subset)[apply(sapply(patterns, function(p) grepl(p, colnames(counts_subset), ignore.case = TRUE)), 1, any)]\n",
    "counts_subset <- counts_subset[, selected_columns]\n",
    "\n",
    "# Clean up data\n",
    "rownames(counts_subset) <- gsub(\"\\\\..*\", \"\", rownames(counts_subset))\n",
    "counts_subset <- as.matrix(counts_subset)\n",
    "mart <- useMart(\"ensembl\", dataset = \"hsapiens_gene_ensembl\")\n",
    "ensembl_annot <- getBM(attributes=c(\"ensembl_gene_id\",\"external_gene_name\"),\n",
    "                       filters = \"ensembl_gene_id\",\n",
    "                       values = rownames(counts_subset), \n",
    "                       mart = mart)\n",
    "cols <- as.data.frame(rownames(counts_subset))\n",
    "new_names <- left_join(cols, ensembl_annot, by = c(\"rownames(counts_subset)\" = \"ensembl_gene_id\"))\n",
    "rownames(counts_subset) <- new_names$external_gene_name\n",
    "count_df <- as.data.frame(counts_subset)\n",
    "genes <- c(\n",
    "\"PTPRC\", \"TFRC\", \"CD74\", \"ITGAL\", \"CLEC4C\", \"EEA1\", \"RAB5A\", \"CD63\", \"RAB7A\", \"LAMP1\"\n",
    "\n",
    ")\n",
    "filtered_df <- count_df[rownames(count_df) %in% genes, ]\n",
    "filtered_df <- cbind(Cell = rownames(filtered_df), filtered_df)\n",
    "filtered_df <- t(filtered_df)\n",
    "filtered_df <- as.data.frame(filtered_df)\n",
    "filtered_df$Cell <- rownames(filtered_df)\n",
    "rownames(filtered_df) <- NULL\n",
    "ccle <- filtered_df\n",
    "\n",
    "\n",
    "ccle <- ccle[-1, ] %>%\n",
    "        dplyr::select(`Cell`, PTPRC, TFRC, CD74, ITGAL, CLEC4C, EEA1, RAB5A, CD63, RAB7A, LAMP1) %>%\n",
    "        mutate(Cell = recode(Cell, \n",
    "                           \"JURKAT_HAEMATOPOIETIC_AND_LYMPHOID_TISSUE\" = \"Jurkat\", \n",
    "                           \"RAJI_HAEMATOPOIETIC_AND_LYMPHOID_TISSUE\" = \"Raji\"))"
   ]
  },
  {
   "cell_type": "code",
   "execution_count": 126,
   "metadata": {
    "vscode": {
     "languageId": "r"
    }
   },
   "outputs": [
    {
     "data": {
      "text/html": [
       "<table class=\"dataframe\">\n",
       "<caption>A data.frame: 21 × 11</caption>\n",
       "<thead>\n",
       "\t<tr><th></th><th scope=col>Cell</th><th scope=col>PTPRC</th><th scope=col>TFRC</th><th scope=col>CD74</th><th scope=col>ITGAL</th><th scope=col>CLEC4C</th><th scope=col>EEA1</th><th scope=col>RAB5A</th><th scope=col>CD63</th><th scope=col>RAB7A</th><th scope=col>LAMP1</th></tr>\n",
       "\t<tr><th></th><th scope=col>&lt;chr&gt;</th><th scope=col>&lt;chr&gt;</th><th scope=col>&lt;chr&gt;</th><th scope=col>&lt;chr&gt;</th><th scope=col>&lt;chr&gt;</th><th scope=col>&lt;chr&gt;</th><th scope=col>&lt;chr&gt;</th><th scope=col>&lt;chr&gt;</th><th scope=col>&lt;chr&gt;</th><th scope=col>&lt;chr&gt;</th><th scope=col>&lt;chr&gt;</th></tr>\n",
       "</thead>\n",
       "<tbody>\n",
       "\t<tr><th scope=row>2</th><td>Jurkat                             </td><td>101.50 </td><td> 60.68 </td><td>  1.37 </td><td> 12.15 </td><td>  0.00 </td><td>  3.67 </td><td> 30.64 </td><td> 93.76 </td><td>107.26 </td><td> 55.28 </td></tr>\n",
       "\t<tr><th scope=row>3</th><td>Raji                               </td><td>  91.00</td><td> 115.81</td><td>2909.40</td><td>  21.28</td><td>   0.00</td><td>   7.06</td><td>  14.21</td><td>  53.42</td><td> 121.16</td><td>  32.35</td></tr>\n",
       "\t<tr><th scope=row>1</th><td>Central memory CD8 T-cell          </td><td>1110.6 </td><td>7.6    </td><td>709.3  </td><td>185    </td><td>0.2    </td><td>5.9    </td><td>46.1   </td><td>47.8   </td><td>161.1  </td><td>10.5   </td></tr>\n",
       "\t<tr><th scope=row>21</th><td>Effector memory CD8 T-cell         </td><td>1410.5 </td><td>10     </td><td>1828.8 </td><td>347.7  </td><td>0.5    </td><td>5.8    </td><td>57.9   </td><td>71.3   </td><td>205.8  </td><td>12.2   </td></tr>\n",
       "\t<tr><th scope=row>31</th><td>Exhausted memory B-cell            </td><td>335.3  </td><td>23     </td><td>16365.5</td><td>50.1   </td><td>1      </td><td>10.1   </td><td>27.7   </td><td>44.5   </td><td>112.2  </td><td>4.7    </td></tr>\n",
       "\t<tr><th scope=row>4</th><td>Memory CD4 T-cell TFH              </td><td>998.3  </td><td>8      </td><td>498.2  </td><td>133.5  </td><td>0.3    </td><td>5      </td><td>33.8   </td><td>26.5   </td><td>151.8  </td><td>3.9    </td></tr>\n",
       "\t<tr><th scope=row>5</th><td>Memory CD4 T-cell Th1              </td><td>937.6  </td><td>10.7   </td><td>622.9  </td><td>175.7  </td><td>0.4    </td><td>6.8    </td><td>45     </td><td>43.2   </td><td>158.8  </td><td>8.9    </td></tr>\n",
       "\t<tr><th scope=row>6</th><td>Memory CD4 T-cell Th1/Th17         </td><td>954.2  </td><td>7.5    </td><td>545.4  </td><td>168.6  </td><td>0.4    </td><td>4.7    </td><td>46.1   </td><td>52.7   </td><td>168.1  </td><td>8.5    </td></tr>\n",
       "\t<tr><th scope=row>7</th><td>Memory CD4 T-cell Th17             </td><td>991.2  </td><td>15.8   </td><td>384.2  </td><td>139.7  </td><td>0.6    </td><td>7      </td><td>54.6   </td><td>44.3   </td><td>191    </td><td>9.1    </td></tr>\n",
       "\t<tr><th scope=row>8</th><td>Memory CD4 T-cell Th2              </td><td>793.3  </td><td>14.2   </td><td>440.2  </td><td>112.1  </td><td>0.4    </td><td>7      </td><td>44.5   </td><td>45.4   </td><td>169    </td><td>6.6    </td></tr>\n",
       "\t<tr><th scope=row>9</th><td>naive B-cell                       </td><td>386.9  </td><td>6.3    </td><td>17372.6</td><td>29.9   </td><td>5.4    </td><td>4.8    </td><td>34.5   </td><td>32.4   </td><td>114.1  </td><td>4.9    </td></tr>\n",
       "\t<tr><th scope=row>10</th><td>naive CD4 T-cell                   </td><td>770.9  </td><td>3.8    </td><td>258.7  </td><td>91.2   </td><td>0.9    </td><td>11.9   </td><td>39.3   </td><td>16.1   </td><td>157.7  </td><td>6.3    </td></tr>\n",
       "\t<tr><th scope=row>11</th><td>naive CD8 T-cell                   </td><td>644.8  </td><td>4.5    </td><td>214    </td><td>94.1   </td><td>0.5    </td><td>8.9    </td><td>36.7   </td><td>20.5   </td><td>150.7  </td><td>5.7    </td></tr>\n",
       "\t<tr><th scope=row>12</th><td>Non-switched memory B-cell         </td><td>401.5  </td><td>9.4    </td><td>16940.7</td><td>36.6   </td><td>2.1    </td><td>7.6    </td><td>31.5   </td><td>41.3   </td><td>140.6  </td><td>3.4    </td></tr>\n",
       "\t<tr><th scope=row>13</th><td>Plasmablast                        </td><td>57.1   </td><td>28.2   </td><td>1053.4 </td><td>24.4   </td><td>0.3    </td><td>1.4    </td><td>23.4   </td><td>20.3   </td><td>39.7   </td><td>2.6    </td></tr>\n",
       "\t<tr><th scope=row>14</th><td>plasmacytoid DC                    </td><td>215.7  </td><td>59.3   </td><td>20724.4</td><td>49.8   </td><td>440.1  </td><td>4.7    </td><td>81.7   </td><td>68.6   </td><td>193    </td><td>18.1   </td></tr>\n",
       "\t<tr><th scope=row>15</th><td>Switched memory B-cell             </td><td>318.7  </td><td>24.6   </td><td>18816.4</td><td>45.6   </td><td>1.4    </td><td>10.8   </td><td>35.2   </td><td>34.6   </td><td>135.2  </td><td>7.1    </td></tr>\n",
       "\t<tr><th scope=row>16</th><td>T-reg                              </td><td>914.7  </td><td>12     </td><td>582.8  </td><td>112.9  </td><td>0.4    </td><td>7      </td><td>54.3   </td><td>35.3   </td><td>165.7  </td><td>8.6    </td></tr>\n",
       "\t<tr><th scope=row>17</th><td>Terminal effector memory CD4 T-cell</td><td>1617.5 </td><td>6.5    </td><td>739.6  </td><td>409.3  </td><td>0.2    </td><td>9.2    </td><td>59.2   </td><td>73.5   </td><td>188.4  </td><td>10.3   </td></tr>\n",
       "\t<tr><th scope=row>18</th><td>Terminal effector memory CD8 T-cell</td><td>1173.5 </td><td>10.8   </td><td>1087.4 </td><td>387.4  </td><td>0.6    </td><td>5.3    </td><td>48     </td><td>191.5  </td><td>184.9  </td><td>9.2    </td></tr>\n",
       "\t<tr><th scope=row>19</th><td>Vd2 gdTCR                          </td><td>987.8  </td><td>5.6    </td><td>1302.3 </td><td>239.5  </td><td>0.2    </td><td>5.4    </td><td>44     </td><td>106.7  </td><td>178.5  </td><td>4.1    </td></tr>\n",
       "</tbody>\n",
       "</table>\n"
      ],
      "text/latex": [
       "A data.frame: 21 × 11\n",
       "\\begin{tabular}{r|lllllllllll}\n",
       "  & Cell & PTPRC & TFRC & CD74 & ITGAL & CLEC4C & EEA1 & RAB5A & CD63 & RAB7A & LAMP1\\\\\n",
       "  & <chr> & <chr> & <chr> & <chr> & <chr> & <chr> & <chr> & <chr> & <chr> & <chr> & <chr>\\\\\n",
       "\\hline\n",
       "\t2 & Jurkat                              & 101.50  &  60.68  &   1.37  &  12.15  &   0.00  &   3.67  &  30.64  &  93.76  & 107.26  &  55.28 \\\\\n",
       "\t3 & Raji                                &   91.00 &  115.81 & 2909.40 &   21.28 &    0.00 &    7.06 &   14.21 &   53.42 &  121.16 &   32.35\\\\\n",
       "\t1 & Central memory CD8 T-cell           & 1110.6  & 7.6     & 709.3   & 185     & 0.2     & 5.9     & 46.1    & 47.8    & 161.1   & 10.5   \\\\\n",
       "\t21 & Effector memory CD8 T-cell          & 1410.5  & 10      & 1828.8  & 347.7   & 0.5     & 5.8     & 57.9    & 71.3    & 205.8   & 12.2   \\\\\n",
       "\t31 & Exhausted memory B-cell             & 335.3   & 23      & 16365.5 & 50.1    & 1       & 10.1    & 27.7    & 44.5    & 112.2   & 4.7    \\\\\n",
       "\t4 & Memory CD4 T-cell TFH               & 998.3   & 8       & 498.2   & 133.5   & 0.3     & 5       & 33.8    & 26.5    & 151.8   & 3.9    \\\\\n",
       "\t5 & Memory CD4 T-cell Th1               & 937.6   & 10.7    & 622.9   & 175.7   & 0.4     & 6.8     & 45      & 43.2    & 158.8   & 8.9    \\\\\n",
       "\t6 & Memory CD4 T-cell Th1/Th17          & 954.2   & 7.5     & 545.4   & 168.6   & 0.4     & 4.7     & 46.1    & 52.7    & 168.1   & 8.5    \\\\\n",
       "\t7 & Memory CD4 T-cell Th17              & 991.2   & 15.8    & 384.2   & 139.7   & 0.6     & 7       & 54.6    & 44.3    & 191     & 9.1    \\\\\n",
       "\t8 & Memory CD4 T-cell Th2               & 793.3   & 14.2    & 440.2   & 112.1   & 0.4     & 7       & 44.5    & 45.4    & 169     & 6.6    \\\\\n",
       "\t9 & naive B-cell                        & 386.9   & 6.3     & 17372.6 & 29.9    & 5.4     & 4.8     & 34.5    & 32.4    & 114.1   & 4.9    \\\\\n",
       "\t10 & naive CD4 T-cell                    & 770.9   & 3.8     & 258.7   & 91.2    & 0.9     & 11.9    & 39.3    & 16.1    & 157.7   & 6.3    \\\\\n",
       "\t11 & naive CD8 T-cell                    & 644.8   & 4.5     & 214     & 94.1    & 0.5     & 8.9     & 36.7    & 20.5    & 150.7   & 5.7    \\\\\n",
       "\t12 & Non-switched memory B-cell          & 401.5   & 9.4     & 16940.7 & 36.6    & 2.1     & 7.6     & 31.5    & 41.3    & 140.6   & 3.4    \\\\\n",
       "\t13 & Plasmablast                         & 57.1    & 28.2    & 1053.4  & 24.4    & 0.3     & 1.4     & 23.4    & 20.3    & 39.7    & 2.6    \\\\\n",
       "\t14 & plasmacytoid DC                     & 215.7   & 59.3    & 20724.4 & 49.8    & 440.1   & 4.7     & 81.7    & 68.6    & 193     & 18.1   \\\\\n",
       "\t15 & Switched memory B-cell              & 318.7   & 24.6    & 18816.4 & 45.6    & 1.4     & 10.8    & 35.2    & 34.6    & 135.2   & 7.1    \\\\\n",
       "\t16 & T-reg                               & 914.7   & 12      & 582.8   & 112.9   & 0.4     & 7       & 54.3    & 35.3    & 165.7   & 8.6    \\\\\n",
       "\t17 & Terminal effector memory CD4 T-cell & 1617.5  & 6.5     & 739.6   & 409.3   & 0.2     & 9.2     & 59.2    & 73.5    & 188.4   & 10.3   \\\\\n",
       "\t18 & Terminal effector memory CD8 T-cell & 1173.5  & 10.8    & 1087.4  & 387.4   & 0.6     & 5.3     & 48      & 191.5   & 184.9   & 9.2    \\\\\n",
       "\t19 & Vd2 gdTCR                           & 987.8   & 5.6     & 1302.3  & 239.5   & 0.2     & 5.4     & 44      & 106.7   & 178.5   & 4.1    \\\\\n",
       "\\end{tabular}\n"
      ],
      "text/markdown": [
       "\n",
       "A data.frame: 21 × 11\n",
       "\n",
       "| <!--/--> | Cell &lt;chr&gt; | PTPRC &lt;chr&gt; | TFRC &lt;chr&gt; | CD74 &lt;chr&gt; | ITGAL &lt;chr&gt; | CLEC4C &lt;chr&gt; | EEA1 &lt;chr&gt; | RAB5A &lt;chr&gt; | CD63 &lt;chr&gt; | RAB7A &lt;chr&gt; | LAMP1 &lt;chr&gt; |\n",
       "|---|---|---|---|---|---|---|---|---|---|---|---|\n",
       "| 2 | Jurkat                              | 101.50  |  60.68  |   1.37  |  12.15  |   0.00  |   3.67  |  30.64  |  93.76  | 107.26  |  55.28  |\n",
       "| 3 | Raji                                |   91.00 |  115.81 | 2909.40 |   21.28 |    0.00 |    7.06 |   14.21 |   53.42 |  121.16 |   32.35 |\n",
       "| 1 | Central memory CD8 T-cell           | 1110.6  | 7.6     | 709.3   | 185     | 0.2     | 5.9     | 46.1    | 47.8    | 161.1   | 10.5    |\n",
       "| 21 | Effector memory CD8 T-cell          | 1410.5  | 10      | 1828.8  | 347.7   | 0.5     | 5.8     | 57.9    | 71.3    | 205.8   | 12.2    |\n",
       "| 31 | Exhausted memory B-cell             | 335.3   | 23      | 16365.5 | 50.1    | 1       | 10.1    | 27.7    | 44.5    | 112.2   | 4.7     |\n",
       "| 4 | Memory CD4 T-cell TFH               | 998.3   | 8       | 498.2   | 133.5   | 0.3     | 5       | 33.8    | 26.5    | 151.8   | 3.9     |\n",
       "| 5 | Memory CD4 T-cell Th1               | 937.6   | 10.7    | 622.9   | 175.7   | 0.4     | 6.8     | 45      | 43.2    | 158.8   | 8.9     |\n",
       "| 6 | Memory CD4 T-cell Th1/Th17          | 954.2   | 7.5     | 545.4   | 168.6   | 0.4     | 4.7     | 46.1    | 52.7    | 168.1   | 8.5     |\n",
       "| 7 | Memory CD4 T-cell Th17              | 991.2   | 15.8    | 384.2   | 139.7   | 0.6     | 7       | 54.6    | 44.3    | 191     | 9.1     |\n",
       "| 8 | Memory CD4 T-cell Th2               | 793.3   | 14.2    | 440.2   | 112.1   | 0.4     | 7       | 44.5    | 45.4    | 169     | 6.6     |\n",
       "| 9 | naive B-cell                        | 386.9   | 6.3     | 17372.6 | 29.9    | 5.4     | 4.8     | 34.5    | 32.4    | 114.1   | 4.9     |\n",
       "| 10 | naive CD4 T-cell                    | 770.9   | 3.8     | 258.7   | 91.2    | 0.9     | 11.9    | 39.3    | 16.1    | 157.7   | 6.3     |\n",
       "| 11 | naive CD8 T-cell                    | 644.8   | 4.5     | 214     | 94.1    | 0.5     | 8.9     | 36.7    | 20.5    | 150.7   | 5.7     |\n",
       "| 12 | Non-switched memory B-cell          | 401.5   | 9.4     | 16940.7 | 36.6    | 2.1     | 7.6     | 31.5    | 41.3    | 140.6   | 3.4     |\n",
       "| 13 | Plasmablast                         | 57.1    | 28.2    | 1053.4  | 24.4    | 0.3     | 1.4     | 23.4    | 20.3    | 39.7    | 2.6     |\n",
       "| 14 | plasmacytoid DC                     | 215.7   | 59.3    | 20724.4 | 49.8    | 440.1   | 4.7     | 81.7    | 68.6    | 193     | 18.1    |\n",
       "| 15 | Switched memory B-cell              | 318.7   | 24.6    | 18816.4 | 45.6    | 1.4     | 10.8    | 35.2    | 34.6    | 135.2   | 7.1     |\n",
       "| 16 | T-reg                               | 914.7   | 12      | 582.8   | 112.9   | 0.4     | 7       | 54.3    | 35.3    | 165.7   | 8.6     |\n",
       "| 17 | Terminal effector memory CD4 T-cell | 1617.5  | 6.5     | 739.6   | 409.3   | 0.2     | 9.2     | 59.2    | 73.5    | 188.4   | 10.3    |\n",
       "| 18 | Terminal effector memory CD8 T-cell | 1173.5  | 10.8    | 1087.4  | 387.4   | 0.6     | 5.3     | 48      | 191.5   | 184.9   | 9.2     |\n",
       "| 19 | Vd2 gdTCR                           | 987.8   | 5.6     | 1302.3  | 239.5   | 0.2     | 5.4     | 44      | 106.7   | 178.5   | 4.1     |\n",
       "\n"
      ],
      "text/plain": [
       "   Cell                                PTPRC   TFRC    CD74    ITGAL   CLEC4C \n",
       "2  Jurkat                              101.50   60.68    1.37   12.15    0.00 \n",
       "3  Raji                                  91.00  115.81 2909.40   21.28    0.00\n",
       "1  Central memory CD8 T-cell           1110.6  7.6     709.3   185     0.2    \n",
       "21 Effector memory CD8 T-cell          1410.5  10      1828.8  347.7   0.5    \n",
       "31 Exhausted memory B-cell             335.3   23      16365.5 50.1    1      \n",
       "4  Memory CD4 T-cell TFH               998.3   8       498.2   133.5   0.3    \n",
       "5  Memory CD4 T-cell Th1               937.6   10.7    622.9   175.7   0.4    \n",
       "6  Memory CD4 T-cell Th1/Th17          954.2   7.5     545.4   168.6   0.4    \n",
       "7  Memory CD4 T-cell Th17              991.2   15.8    384.2   139.7   0.6    \n",
       "8  Memory CD4 T-cell Th2               793.3   14.2    440.2   112.1   0.4    \n",
       "9  naive B-cell                        386.9   6.3     17372.6 29.9    5.4    \n",
       "10 naive CD4 T-cell                    770.9   3.8     258.7   91.2    0.9    \n",
       "11 naive CD8 T-cell                    644.8   4.5     214     94.1    0.5    \n",
       "12 Non-switched memory B-cell          401.5   9.4     16940.7 36.6    2.1    \n",
       "13 Plasmablast                         57.1    28.2    1053.4  24.4    0.3    \n",
       "14 plasmacytoid DC                     215.7   59.3    20724.4 49.8    440.1  \n",
       "15 Switched memory B-cell              318.7   24.6    18816.4 45.6    1.4    \n",
       "16 T-reg                               914.7   12      582.8   112.9   0.4    \n",
       "17 Terminal effector memory CD4 T-cell 1617.5  6.5     739.6   409.3   0.2    \n",
       "18 Terminal effector memory CD8 T-cell 1173.5  10.8    1087.4  387.4   0.6    \n",
       "19 Vd2 gdTCR                           987.8   5.6     1302.3  239.5   0.2    \n",
       "   EEA1    RAB5A   CD63    RAB7A   LAMP1  \n",
       "2    3.67   30.64   93.76  107.26   55.28 \n",
       "3     7.06   14.21   53.42  121.16   32.35\n",
       "1  5.9     46.1    47.8    161.1   10.5   \n",
       "21 5.8     57.9    71.3    205.8   12.2   \n",
       "31 10.1    27.7    44.5    112.2   4.7    \n",
       "4  5       33.8    26.5    151.8   3.9    \n",
       "5  6.8     45      43.2    158.8   8.9    \n",
       "6  4.7     46.1    52.7    168.1   8.5    \n",
       "7  7       54.6    44.3    191     9.1    \n",
       "8  7       44.5    45.4    169     6.6    \n",
       "9  4.8     34.5    32.4    114.1   4.9    \n",
       "10 11.9    39.3    16.1    157.7   6.3    \n",
       "11 8.9     36.7    20.5    150.7   5.7    \n",
       "12 7.6     31.5    41.3    140.6   3.4    \n",
       "13 1.4     23.4    20.3    39.7    2.6    \n",
       "14 4.7     81.7    68.6    193     18.1   \n",
       "15 10.8    35.2    34.6    135.2   7.1    \n",
       "16 7       54.3    35.3    165.7   8.6    \n",
       "17 9.2     59.2    73.5    188.4   10.3   \n",
       "18 5.3     48      191.5   184.9   9.2    \n",
       "19 5.4     44      106.7   178.5   4.1    "
      ]
     },
     "metadata": {},
     "output_type": "display_data"
    }
   ],
   "source": [
    "fin <- rbind(ccle, immune)\n",
    "fin"
   ]
  },
  {
   "cell_type": "code",
   "execution_count": 127,
   "metadata": {
    "vscode": {
     "languageId": "r"
    }
   },
   "outputs": [],
   "source": [
    "write.csv(fin, \"result.csv\", row.names = FALSE)"
   ]
  }
 ],
 "metadata": {
  "kernelspec": {
   "display_name": "R",
   "language": "R",
   "name": "ir"
  },
  "language_info": {
   "codemirror_mode": "r",
   "file_extension": ".r",
   "mimetype": "text/x-r-source",
   "name": "R",
   "pygments_lexer": "r",
   "version": "4.3.3"
  }
 },
 "nbformat": 4,
 "nbformat_minor": 2
}
